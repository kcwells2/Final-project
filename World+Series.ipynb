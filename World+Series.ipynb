{
 "cells": [
  {
   "cell_type": "code",
   "execution_count": 8,
   "metadata": {
    "collapsed": true
   },
   "outputs": [],
   "source": [
    "import numpy as np\n",
    "from pandas import Series, DataFrame\n",
    "import matplotlib.pyplot as plots\n",
    "import math as math"
   ]
  },
  {
   "cell_type": "markdown",
   "metadata": {},
   "source": [
    "## Making the Perk"
   ]
  },
  {
   "cell_type": "code",
   "execution_count": 9,
   "metadata": {
    "collapsed": true
   },
   "outputs": [],
   "source": [
    "def mod_pert_random(low, likely, high, confidence=4, samples=1):\n",
    "    \"\"\"Produce random numbers according to the 'Modified PERT' \n",
    "    distribution. \n",
    "    \n",
    "    :param low: The lowest value expected as possible.\n",
    "    :param likely: The 'most likely' value, statistically, the mode.\n",
    "    :param high: The highest value expected as possible.\n",
    "    :param confidence: This is typically called 'lambda' in literature \n",
    "                        about the Modified PERT distribution. The value\n",
    "                        4 here matches the standard PERT curve. Higher\n",
    "                        values indicate higher confidence in the mode.\n",
    "       Astros 19,13\n",
    "       Dodgers 14, 13\n",
    "    Formulas from \"Modified Pert Simulation\" by Paulo Buchsbaum.\n",
    "    \"\"\"\n",
    "    # Check minimum & maximum confidence levels to allow:\n",
    "    confidence = min(8, confidence)\n",
    "    confidence = max(2, confidence)\n",
    "\n",
    "    mean = (low + confidence * likely + high)/(confidence + 2)\n",
    "\n",
    "    a = (mean - low)/(high - low) * (confidence + 2)\n",
    "    b = ((confidence + 1) * high - low - confidence * likely) / (high - low)\n",
    "    \n",
    "    beta = np.random.beta(a, b, samples)\n",
    "    beta = beta * (high - low) + low\n",
    "    return beta"
   ]
  },
  {
   "cell_type": "markdown",
   "metadata": {},
   "source": [
    "## Simple one game series using expected runs scored and allowed"
   ]
  },
  {
   "cell_type": "code",
   "execution_count": 10,
   "metadata": {},
   "outputs": [
    {
     "name": "stdout",
     "output_type": "stream",
     "text": [
      "Astros win world series!\n",
      "4 0\n"
     ]
    }
   ],
   "source": [
    "astros_expected_runs = 5.59\n",
    "astros_expected_allowed = 4.32\n",
    "\n",
    "dodgers_expected_runs = 4.79\n",
    "dodgers_expected_allowed = 3.625\n",
    "\n",
    "time_horizon = 7\n",
    "a = 0\n",
    "d= 0 \n",
    "\n",
    "\n",
    "for game in range(time_horizon):\n",
    "    ar = np.random.normal(astros_expected_runs)\n",
    "    aa = np.random.normal(astros_expected_allowed)\n",
    "    dr = np.random.normal(dodgers_expected_runs)\n",
    "    da = np.random.normal(dodgers_expected_allowed)\n",
    "    \n",
    "    Astros = (ar + da) / 2\n",
    "    Dodgers = (dr + aa) / 2\n",
    "    if Astros > Dodgers:\n",
    "        a = a + 1\n",
    "    else:\n",
    "        d= d + 1\n",
    "        \n",
    "    if a == 4:\n",
    "        print(\"Astros win world series!\")\n",
    "        break;\n",
    "    if d == 4:\n",
    "        print(\"Dodgers win world series!\")\n",
    "        break;\n",
    "print (a,d)"
   ]
  },
  {
   "cell_type": "markdown",
   "metadata": {},
   "source": [
    "## Expected runs score expected runs by relief pitching in series"
   ]
  },
  {
   "cell_type": "code",
   "execution_count": 11,
   "metadata": {},
   "outputs": [
    {
     "name": "stdout",
     "output_type": "stream",
     "text": [
      "Houston Wins this World Series 54.339999999999996% of the time\n",
      "Los Angeles Wins this World Series 45.660000000000004% of the time\n"
     ]
    }
   ],
   "source": [
    "iterations = 10000\n",
    "houston = 0\n",
    "la = 0\n",
    "\n",
    "for x in range(iterations):\n",
    "    astros_expected_runs = 5.59\n",
    "    astros_expected_allowed = 4.32\n",
    "    dodgers_expected_runs = 4.79\n",
    "    dodgers_expected_allowed = 3.625\n",
    "    series = 7\n",
    "    a = 0\n",
    "    d= 0 \n",
    "    winner = []\n",
    "\n",
    "    for game in range(series):\n",
    "        ar = np.random.normal(astros_expected_runs)\n",
    "        aa = np.random.normal(astros_expected_allowed)\n",
    "        dr = np.random.normal(dodgers_expected_runs)\n",
    "        da = np.random.normal(dodgers_expected_allowed)\n",
    "        Astros = (ar + da) / 2\n",
    "        Dodgers = (dr + aa) / 2\n",
    "        \n",
    "\n",
    "        #print(Astros, Dodgers)\n",
    "        if Astros > Dodgers:\n",
    "            a = a + 1\n",
    "        else:\n",
    "            d= d + 1\n",
    "\n",
    "        if a == 4:\n",
    "            #print(\"Astros win world series in \" + str(game + 1) + \" games!\")\n",
    "            winner.append(\"Astros\")\n",
    "            houston = houston + 1\n",
    "            break;\n",
    "        if d == 4:\n",
    "            #print(\"Dodgers win world series in \" + str(game + 1) + \" games!\")\n",
    "            winner.append(\"Dodgers\")\n",
    "            la = la + 1\n",
    "            break;\n",
    "hpercent = houston/iterations * 100\n",
    "lpercent = la/iterations * 100\n",
    "print(\"Houston Wins this World Series \" + str(hpercent) + \"% of the time\")\n",
    "print(\"Los Angeles Wins this World Series \" + str(lpercent) + \"% of the time\")\n"
   ]
  },
  {
   "cell_type": "markdown",
   "metadata": {},
   "source": [
    "## Expected runs score, runs allowed by starting pitcher, expected innings by starter, expected runs by relief pitchings"
   ]
  },
  {
   "cell_type": "code",
   "execution_count": 12,
   "metadata": {
    "scrolled": true
   },
   "outputs": [
    {
     "name": "stdout",
     "output_type": "stream",
     "text": [
      "Houston Wins this World Series 53.459999999999994% of the time\n",
      "Los Angeles Wins this World Series 46.54% of the time\n"
     ]
    }
   ],
   "source": [
    "iterations = 10000\n",
    "houston = 0\n",
    "la = 0\n",
    "\n",
    "for x in range(iterations):                                                     #Monte Carlo Simulation/iterations\n",
    "    series = 7                                                                  #Setting/resetting 7 game series\n",
    "    a = 0                                                                       #Setting/resetting Astros games won in series\n",
    "    d= 0                                                                        #Setting/resetting Dodgers games won in series\n",
    "    astros_average_runs = 5.59                                                  #Astros Average runs a game\n",
    "    astros_starters_allowed = [3.09,3.50,4.82,3.99,3.09,3.50,4.82]              #Astros starting pitchers runs per 9 inning game\n",
    "    astros_starters_expectedinning = [6.33,6.24,5.4,5.8,6.33,6.24,5.4]          #Astros starting pitchers innings per start\n",
    "    astros_relivers_allowed = 4.48                                              #Astros relief pitchers runs per 9 inning game\n",
    "    \n",
    "    dodgers_average_runs = 4.79                                                 #Dodgers Average runs a game\n",
    "    dodgers_starters_allowed = [2.52,3.38,4.09,2.95,2.52,3.38,4.09]             #Dodgers starting pitchers runs per 9 inning game\n",
    "    dodgers_starters_expectedinning = [6.5,5.4,5.6,6,6.5,5.4,5.6]               #Dodgers starting pitchers innings per start\n",
    "    dodgers_relivers_allowed = 3.54                                             #Dodgers relief pitchers runs per 9 inning game\n",
    "    \n",
    "    winner = []\n",
    "\n",
    "    for game in range(series):                                                  #Forloop for 7 game series\n",
    "        ar = np.random.normal(astros_average_runs)                              #Astros Runs\n",
    "        asp = np.random.normal(astros_starters_allowed[game],.5)                #Astros starting pitching runs allowed\n",
    "        aes = np.random.triangular(0,astros_starters_expectedinning[game],9.04) #Astros innings from starting pitching\n",
    "        arp = np.random.normal(astros_relivers_allowed,.25)                     #Astros relief pitching runs given up\n",
    "        aspra = (asp/9) * aes                                                   #Astros runs given up by starting pitching\n",
    "        ari = 9 - aes                                                           #Astros number relief innings\n",
    "        arpra = (arp/9) * ari                                                   #Astros runs given up by relief pitching\n",
    "        \n",
    "        dr = np.random.normal(dodgers_average_runs)                             #Dodgers Runs\n",
    "        dsp = np.random.normal(dodgers_starters_allowed[game],.5)               #Dodgers starting pitching runs allowed\n",
    "        des = np.random.triangular(0,dodgers_starters_expectedinning[game],9.04)#Dodgers innings from starting pitching\n",
    "        drp = np.random.normal(dodgers_relivers_allowed,.25)                    #Dodgers relief pitching runs given up     \n",
    "        dspra = (dsp/9) * des                                                   #Dodger runs given up by starting pitching\n",
    "        dri = 9 - des                                                           #Dodgers number relief innings t\n",
    "        drpra = (drp/9) * dri                                                   #Dodgers runs given up by relief pitching\n",
    "        \n",
    "        Astros = (ar + (dspra + drpra)) / 2                                     #Astros Expected runs for game\n",
    "        Dodgers = (dr + (aspra+arpra)) / 2                                      #Dodgers Expected runs for game\n",
    "    \n",
    "        #print(Astros, Dodgers)\n",
    "        if Astros > Dodgers:                                                    #Determine winner of game and add 1 to total \n",
    "            a = a + 1\n",
    "        else:\n",
    "            d= d + 1\n",
    "\n",
    "        if a == 4:                                                              #1st to 4 wins series wins and add name to array\n",
    "            #print(\"Astros win world series in \" + str(game + 1) + \" games!\")\n",
    "            winner.append(\"Astros\")\n",
    "            houston = houston + 1\n",
    "            break;\n",
    "        if d == 4:\n",
    "            #print(\"Dodgers win world series in \" + str(game + 1) + \" games!\")\n",
    "            winner.append(\"Dodgers\")\n",
    "            la = la + 1\n",
    "            break;\n",
    "hpercent = houston/iterations * 100                                             #Calculating how many times Houston won WS\n",
    "lpercent = la/iterations * 100                                                  #Calculating how many times LA won WS\n",
    "print(\"Houston Wins this World Series \" + str(hpercent) + \"% of the time\")\n",
    "print(\"Los Angeles Wins this World Series \" + str(lpercent) + \"% of the time\")"
   ]
  },
  {
   "cell_type": "markdown",
   "metadata": {},
   "source": [
    "## Round Expected runs score, runs allowed by starting pitcher, expected innings by starter, expected runs by relief pitching in a ND"
   ]
  },
  {
   "cell_type": "code",
   "execution_count": 13,
   "metadata": {},
   "outputs": [
    {
     "name": "stdout",
     "output_type": "stream",
     "text": [
      "Houston wins 2017 World Series 52.71% of the time\n",
      "Los Angeles wins 2017 World Series 47.29% of the time\n"
     ]
    }
   ],
   "source": [
    "#Rounded\n",
    "\n",
    "iterations = 10000\n",
    "houston = 0\n",
    "la = 0\n",
    "\n",
    "for x in range(iterations):                                                     #Monte Carlo Simulation/iterations\n",
    "    series = 7                                                                  #Setting/resetting 7 game series\n",
    "    a = 0                                                                       #Setting/resetting Astros games won in series\n",
    "    d= 0                                                                        #Setting/resetting Dodgers games won in series\n",
    "    astros_average_runs = 5.59                                                  #Astros Average runs a game\n",
    "    astros_starters_allowed = [3.09,3.50,4.82,3.99,3.09,3.50,4.82]              #Astros starting pitchers runs per 9 inning game\n",
    "    astros_starters_expectedinning = [6.33,6.24,5.4,5.8,6.33,6.24,5.4]          #Astros starting pitchers innings per start\n",
    "    astros_relivers_allowed = 4.48                                              #Astros relief pitchers runs per 9 inning game\n",
    "    \n",
    "    dodgers_average_runs = 4.79                                                 #Dodgers Average runs a game\n",
    "    dodgers_starters_allowed = [2.52,3.38,4.09,2.95,2.52,3.38,4.09]             #Dodgers starting pitchers runs per 9 inning game\n",
    "    dodgers_starters_expectedinning = [6.5,5.4,5.6,6,6.5,5.4,5.6]               #Dodgers starting pitchers innings per start\n",
    "    dodgers_relivers_allowed = 3.54                                             #Dodgers relief pitchers runs per 9 inning game\n",
    "    \n",
    "    winner = []\n",
    "\n",
    "    for game in range(series):                                                  #Forloop for 7 game series\n",
    "        ar = np.random.normal(astros_average_runs)                              #Astros Runs\n",
    "        arr = round(ar)                                                         #Astros roundedruns cant score a decimal of run\n",
    "        asp = np.random.normal(astros_starters_allowed[game],.5)                #Astros starting pitching runs allowed\n",
    "        aes = round(np.random.triangular(0,astros_starters_expectedinning[game],9)) #Astros innings from starting pitching\n",
    "        arp = np.random.normal(astros_relivers_allowed,.25)                     #Astros relief pitching runs given up\n",
    "        aspra = round((asp/9) * aes)                                            #Astros runs given up by starting pitching\n",
    "        ari = 9 - aes                                                           #Astros number relief innings\n",
    "        arpra = round(((arp/9) * ari))                                          #Astros runs given up by relief pitching\n",
    "        \n",
    "        dr = np.random.normal(dodgers_average_runs)                             #Dodgers Runs\n",
    "        drr = round(dr)                                                         #Dodgers roundedruns cant score a decimal of run\n",
    "        dsp = np.random.normal(dodgers_starters_allowed[game],.50)              #Dodgers starting pitching runs allowed\n",
    "        des = round(np.random.triangular(0,dodgers_starters_expectedinning[game],9))#Dodgers innings from starting pitching\n",
    "        drp = np.random.normal(dodgers_relivers_allowed,.25)                    #Dodgers relief pitching runs given up     \n",
    "        dspra = round((dsp/9) * des)                                            #Dodger runs given up by starting pitching\n",
    "        dri = 9 - des                                                           #Dodgers number relief innings t\n",
    "        drpra = round(((drp/9) * dri))                                          #Dodgers runs given up by relief pitching\n",
    "        Astros = (arr + (dspra + drpra)) / 2                                    #Astros Expected runs for game\n",
    "        Dodgers = (drr + (aspra + arpra)) / 2                                   #Dodgers Expected runs for game\n",
    "        \n",
    "        if Astros == Dodgers:                                                   #If game is tied after 9 inning... \n",
    "            if arpra < drpra:                                                   #Tiebreaker goes to better bullpen \n",
    "                Astros = Astros + 1\n",
    "            elif arpra > drpra:\n",
    "                Dodgers = Dodgers+1\n",
    "            else:                                                               #If bullpens tie. its assumed good offense scores\n",
    "                if ar > dr:                                                     \n",
    "                    Astros = Astros + 1\n",
    "                else:\n",
    "                    Dodgers = Dodgers+1\n",
    "                    \n",
    "        if Astros > Dodgers:                                                    #Determine winner of game and add 1 to total \n",
    "            a = a + 1\n",
    "        else:\n",
    "            d= d + 1\n",
    "        \n",
    "        if a == 4:                                                              #1st to 4 wins series wins and add name to array\n",
    "            #print(\"Astros win world series in \" + str(game + 1) + \" games!\")\n",
    "            winner.append(\"Astros\")\n",
    "            houston = houston + 1\n",
    "            break;\n",
    "        if d == 4:\n",
    "            #print(\"Dodgers win world series in \" + str(game + 1) + \" games!\")\n",
    "            winner.append(\"Dodgers\")\n",
    "            la = la + 1\n",
    "            break;\n",
    "hpercent = houston/iterations * 100                                             #Calculating how many times Houston won WS\n",
    "lpercent = la/iterations * 100                                                  #Calculating how many times LA won WS\n",
    "print(\"Houston wins 2017 World Series \" + str(hpercent) + \"% of the time\")\n",
    "print(\"Los Angeles wins 2017 World Series \" + str(lpercent) + \"% of the time\") "
   ]
  },
  {
   "cell_type": "markdown",
   "metadata": {},
   "source": [
    "## Rounded Expected runs score, runs allowed by starting pitcher, expected innings by starter, expected runs by relief pitching in a PERT"
   ]
  },
  {
   "cell_type": "code",
   "execution_count": 14,
   "metadata": {},
   "outputs": [
    {
     "name": "stdout",
     "output_type": "stream",
     "text": [
      "Houston wins 2017 World Series 62.36000000000001% of the time\n",
      "Los Angeles wins 2017 World Series 37.64% of the time\n"
     ]
    }
   ],
   "source": [
    "#PERT\n",
    "iterations = 10000\n",
    "houston = 0\n",
    "la = 0\n",
    "\n",
    "for x in range(iterations):                                                     #Monte Carlo Simulation/iterations\n",
    "    series = 7                                                                  #Setting/resetting 7 game series\n",
    "    a = 0                                                                       #Setting/resetting Astros games won in series\n",
    "    d= 0                                                                        #Setting/resetting Dodgers games won in series\n",
    "    astros_average_runs = 5.59                                                  #Astros Average runs a game\n",
    "    astros_starters_allowed = [3.09,3.50,4.82,3.99,3.09,3.50,4.82]              #Astros starting pitchers runs per 9 inning game\n",
    "    astros_starters_expectedinning = [6.33,6.24,5.4,5.8,6.33,6.24,5.4]          #Astros starting pitchers innings per start\n",
    "    astros_relivers_allowed = 4.48                                              #Astros relief pitchers runs per 9 inning game\n",
    "    \n",
    "    dodgers_average_runs = 4.79                                                 #Dodgers Average runs a game\n",
    "    dodgers_starters_allowed = [2.52,3.38,4.09,2.95,2.52,3.38,4.09]             #Dodgers starting pitchers runs per 9 inning game\n",
    "    dodgers_starters_expectedinning = [6.5,5.4,5.6,6,6.5,5.4,5.6]               #Dodgers starting pitchers innings per start\n",
    "    dodgers_relivers_allowed = 3.54                                             #Dodgers relief pitchers runs per 9 inning game\n",
    "    \n",
    "    winner = []\n",
    "\n",
    "    for game in range(series):                                                  #Forloop for 7 game series\n",
    "        ar = mod_pert_random(0,astros_average_runs,19)                          #Astros Runs\n",
    "        arr = round(ar[0])                                                      #Astros roundedruns cant score a decimal of run\n",
    "        asp = mod_pert_random(0,astros_starters_allowed[game],13)               #Astros starting pitching runs allowed\n",
    "        aes = mod_pert_random(0,astros_starters_expectedinning[game],9)         #Astros innings from starting pitching\n",
    "        aesr = round(aes[0])\n",
    "        arp = mod_pert_random(0,astros_relivers_allowed,13)                     #Astros relief pitching runs given up\n",
    "        aspra = round((asp[0]/9) * aesr)                                        #Astros runs given up by starting pitching\n",
    "        ari = 9 - aesr                                                          #Astros number relief innings\n",
    "        arpra = round(((arp[0]/9) * ari))                                       #Astros runs given up by relief pitching\n",
    "    \n",
    "        dr =  mod_pert_random(0,dodgers_average_runs,14)                        #Dodgers Runs\n",
    "        drr = round(dr[0])                                                      #Dodgers roundedruns cant score a decimal of run\n",
    "        dsp = mod_pert_random(0,dodgers_starters_allowed[game],13)              #Dodgers starting pitching runs allowed\n",
    "        des = mod_pert_random(0,dodgers_starters_expectedinning[game],9)        #Dodgers innings from starting pitching\n",
    "        desr = round(des[0])\n",
    "        drp = mod_pert_random(0,dodgers_relivers_allowed,13)                    #Dodgers relief pitching runs given up     \n",
    "        dspra = round((dsp[0]/9) * desr)                                        #Dodger runs given up by starting pitching\n",
    "        dri = 9 - desr                                                          #Dodgers number relief innings t\n",
    "        drpra = round(((drp[0]/9) * dri))                                       #Dodgers runs given up by relief pitching\n",
    "        Astros = (arr + (dspra + drpra)) / 2                                    #Astros Expected runs for game\n",
    "        Dodgers = (drr + (aspra + arpra)) / 2                                   #Dodgers Expected runs for game\n",
    "        #print(str(arr)+ \" \" + str(dspra) +\" \"+ str(drpra))\n",
    "        if Astros == Dodgers:                                                   #If game is tied after 9 inning... \n",
    "            if arpra < drpra:                                                   #Tiebreaker goes to better bullpen \n",
    "                Astros = Astros + 1\n",
    "            elif arpra > drpra:\n",
    "                Dodgers = Dodgers+1\n",
    "            else:                                                               #If bullpens tie. its assumed good offense scores\n",
    "                if ar > dr:                                                     \n",
    "                    Astros = Astros + 1\n",
    "                else:\n",
    "                    Dodgers = Dodgers+1\n",
    "        #print(Astros, Dodgers)        \n",
    "        if Astros > Dodgers:                                                    #Determine winner of game and add 1 to total \n",
    "            a = a + 1\n",
    "        else:\n",
    "            d= d + 1\n",
    "        \n",
    "        if a == 4:                                                              #1st to 4 wins series wins and add name to array\n",
    "            #print(\"Astros win world series in \" + str(game + 1) + \" games!\")\n",
    "            winner.append(\"Astros\")\n",
    "            houston = houston + 1\n",
    "            break;\n",
    "        if d == 4:\n",
    "            #print(\"Dodgers win world series in \" + str(game + 1) + \" games!\")\n",
    "            winner.append(\"Dodgers\")\n",
    "            la = la + 1\n",
    "            break;\n",
    "hpercent = houston/iterations * 100                                             #Calculating how many times Houston won WS\n",
    "lpercent = la/iterations * 100                                                  #Calculating how many times LA won WS\n",
    "print(\"Houston wins 2017 World Series \" + str(hpercent) + \"% of the time\")\n",
    "print(\"Los Angeles wins 2017 World Series \" + str(lpercent) + \"% of the time\") "
   ]
  },
  {
   "cell_type": "code",
   "execution_count": null,
   "metadata": {
    "collapsed": true
   },
   "outputs": [],
   "source": []
  }
 ],
 "metadata": {
  "kernelspec": {
   "display_name": "Python 3",
   "language": "python",
   "name": "python3"
  },
  "language_info": {
   "codemirror_mode": {
    "name": "ipython",
    "version": 3
   },
   "file_extension": ".py",
   "mimetype": "text/x-python",
   "name": "python",
   "nbconvert_exporter": "python",
   "pygments_lexer": "ipython3",
   "version": "3.6.1"
  }
 },
 "nbformat": 4,
 "nbformat_minor": 2
}
